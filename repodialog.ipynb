{
 "cells": [
  {
   "cell_type": "markdown",
   "id": "6633903d-e437-4091-a578-adfd25dad27a",
   "metadata": {},
   "source": [
    "# Repodialog notebook"
   ]
  },
  {
   "cell_type": "code",
   "execution_count": 36,
   "id": "392a5db6-d368-4a3e-b86d-6ce86549790a",
   "metadata": {},
   "outputs": [],
   "source": [
    "#!/usr/bin/python\n",
    "# -*- coding: utf-8 -*-\n",
    "import os\n",
    "import streamlit as st\n",
    "import pickle\n",
    "from PyPDF2 import PdfReader\n",
    "from langchain.text_splitter import RecursiveCharacterTextSplitter\n",
    "from langchain.vectorstores import FAISS\n",
    "from langchain.embeddings import HuggingFaceEmbeddings\n",
    "from langchain.chains.question_answering import load_qa_chain\n",
    "from langchain import HuggingFaceHub\n",
    "from langchain.text_splitter import RecursiveCharacterTextSplitter\n",
    "from langchain.schema import Document"
   ]
  },
  {
   "cell_type": "markdown",
   "id": "34ee6cbe-955d-43ee-8c92-8ac314e06010",
   "metadata": {},
   "source": [
    "## Load environment variables\n",
    "Load environment variables from .env configuration file. After cloning the repository, there is a .env.example file which you need to copy first to create a .env configuration file:\n",
    "\n",
    "```\n",
    "cp .env.example .env\n",
    "```\n",
    "\n",
    "Adapt variables in the .env file."
   ]
  },
  {
   "cell_type": "code",
   "execution_count": 29,
   "id": "4a48f239-8a53-4f7e-90f2-5958f121ca5b",
   "metadata": {},
   "outputs": [],
   "source": [
    "if not os.path.exists(\".env\"):\n",
    "    print(\"Missing configuration file\")"
   ]
  },
  {
   "cell_type": "code",
   "execution_count": 25,
   "id": "e14f24ab-f95b-4244-a109-cf3178b997d1",
   "metadata": {},
   "outputs": [],
   "source": [
    "from dotenv import load_dotenv\n",
    "load_dotenv()\n",
    "HUGGINGFACEHUB_API_TOKEN = os.getenv('HUGGINGFACEHUB_API_TOKEN')"
   ]
  },
  {
   "cell_type": "markdown",
   "id": "5402d547-6546-439b-ac78-35ce58b00237",
   "metadata": {},
   "source": [
    "## HuggingFace pretrained SentenceTransformer embedding"
   ]
  },
  {
   "cell_type": "code",
   "execution_count": 27,
   "id": "627491c0-8431-4f0c-8f8f-3fef481b5fd2",
   "metadata": {},
   "outputs": [
    {
     "name": "stderr",
     "output_type": "stream",
     "text": [
      "2023-09-06 00:52:36.478 INFO    sentence_transformers.SentenceTransformer: Load pretrained SentenceTransformer: sentence-transformers/all-mpnet-base-v2\n",
      "2023-09-06 00:52:38.249 INFO    sentence_transformers.SentenceTransformer: Use pytorch device: cpu\n"
     ]
    }
   ],
   "source": [
    "embeddings = HuggingFaceEmbeddings()"
   ]
  },
  {
   "cell_type": "markdown",
   "id": "e94e6e99-72f5-4211-8308-98e0d945e54d",
   "metadata": {},
   "source": [
    "## Load PDF document\n",
    "\n",
    "Using `PyPDF2` reader to load PDF files. "
   ]
  },
  {
   "cell_type": "code",
   "execution_count": 37,
   "id": "5a2fd74e-6a7e-4eac-a628-97e0404471ad",
   "metadata": {},
   "outputs": [],
   "source": [
    "pdf_path = \"Gravitational_wave-1.pdf\"\n",
    "pdf_file_name = os.path.basename(pdf_path)\n",
    "pdf_reader = PdfReader(pdf_path)\n",
    "pages = pdf_reader.pages"
   ]
  },
  {
   "cell_type": "code",
   "execution_count": 14,
   "id": "76ab0cd8-c441-4754-bdae-be87e62ea3f3",
   "metadata": {},
   "outputs": [
    {
     "data": {
      "text/plain": [
       "28"
      ]
     },
     "execution_count": 14,
     "metadata": {},
     "output_type": "execute_result"
    }
   ],
   "source": [
    "len(pages)"
   ]
  },
  {
   "cell_type": "markdown",
   "id": "201beb5c-7af8-4289-9b2f-c5822282b769",
   "metadata": {},
   "source": [
    "## Split PDF pages into text chunks"
   ]
  },
  {
   "cell_type": "markdown",
   "id": "21b49358-2a69-4ca6-9a5d-255e81814622",
   "metadata": {},
   "source": [
    "The text is extracted from PDF pages and split into smaller chunks. The page and filename information is preserved."
   ]
  },
  {
   "cell_type": "code",
   "execution_count": 12,
   "id": "64a62c74-63f0-496b-b683-f4e0d8b8682b",
   "metadata": {},
   "outputs": [],
   "source": [
    "text_splitter = RecursiveCharacterTextSplitter(\n",
    "    chunk_size=500,\n",
    "    chunk_overlap=60,\n",
    "    length_function=len\n",
    ")\n",
    "list_of_documents = []\n",
    "for i in range(0, len(pages)):\n",
    "    pagenum = i+1\n",
    "    page = pages[i]\n",
    "    chunks = text_splitter.split_text(text=page.extract_text())\n",
    "    for chunk in chunks:\n",
    "        list_of_documents.append(Document(page_content=chunk, metadata=dict(page=pagenum, filename=pdf_file_name)))"
   ]
  },
  {
   "cell_type": "code",
   "execution_count": 13,
   "id": "f88d981b-adaa-4dec-bb7e-d6106e1a5e4a",
   "metadata": {},
   "outputs": [
    {
     "data": {
      "text/plain": [
       "Document(page_content='Simulation of the collision of two black holes. In\\naddition to forming deep gravity wells and\\ncoalescing into a single larger black hole,\\ngravitational waves will propagate outwards as the\\nblack holes spin past each other.Gravitational wave\\nGravitational waves are waves of the intensity of\\ngravity that are generated by the accelerated masses of\\nan orbital binary system, and propagate as waves\\noutward from their source at the speed of light. They', metadata={'page': 1, 'filename': 'Gravitational_wave-1.pdf'})"
      ]
     },
     "execution_count": 13,
     "metadata": {},
     "output_type": "execute_result"
    }
   ],
   "source": [
    "list_of_documents[0]"
   ]
  },
  {
   "cell_type": "code",
   "execution_count": 16,
   "id": "80982fcf-e789-4aef-a3d4-576e681b1287",
   "metadata": {},
   "outputs": [
    {
     "data": {
      "text/plain": [
       "Document(page_content='outward from their source at the speed of light. They\\nwere first proposed by Oliver Heaviside in 1893 and\\nthen later by Henri Poincaré in 1905 as waves similar\\nto electromagnetic waves but the gravitational\\nequivalent.[1]\\nGravitational waves were later predicted in 1916[2][3]\\nby Albert Einstein on the basis of his general theory of\\nrelativity as ripples in spacetime.[4][5] Later he refused\\nto accept gravitational waves.[6] Gravitational waves', metadata={'page': 1, 'filename': 'Gravitational_wave-1.pdf'})"
      ]
     },
     "execution_count": 16,
     "metadata": {},
     "output_type": "execute_result"
    }
   ],
   "source": [
    "list_of_documents[1]"
   ]
  },
  {
   "cell_type": "markdown",
   "id": "db63fa72-5cdd-4033-a02a-f482e398f88e",
   "metadata": {},
   "source": [
    "## Vector store\n",
    "\n",
    "Vector stores overview:\n",
    "\n",
    "https://python.langchain.com/docs/modules/data_connection/vectorstores/"
   ]
  },
  {
   "cell_type": "code",
   "execution_count": 17,
   "id": "36da36f5-209f-4bcc-8d4a-c732700ed169",
   "metadata": {},
   "outputs": [
    {
     "name": "stderr",
     "output_type": "stream",
     "text": [
      "Batches: 100%|████████████████████████████████████████████████████████████████████████████████████████████████████████████████████████████████████████████████████████████████| 7/7 [05:32<00:00, 47.50s/it]\n",
      "2023-09-06 00:43:34.449 INFO    faiss.loader: Loading faiss with AVX2 support.\n",
      "2023-09-06 00:43:34.470 INFO    faiss.loader: Successfully loaded faiss with AVX2 support.\n"
     ]
    }
   ],
   "source": [
    "VectorStore = FAISS.from_documents(embedding=embeddings, documents=list_of_documents)"
   ]
  },
  {
   "cell_type": "code",
   "execution_count": 18,
   "id": "1f2db729-1b60-4b7f-8303-e23a4cf2c8c4",
   "metadata": {},
   "outputs": [],
   "source": [
    "index_file = pdf_file_name[:-4]"
   ]
  },
  {
   "cell_type": "code",
   "execution_count": 19,
   "id": "d668c9cf-5b0f-4e6c-ab71-1fce51b18a83",
   "metadata": {},
   "outputs": [],
   "source": [
    "with open(f\"{index_file}.pkl\", \"wb\") as f:\n",
    "    pickle.dump(VectorStore, f)"
   ]
  },
  {
   "cell_type": "code",
   "execution_count": null,
   "id": "b7cbb8b8-c3c1-45ca-a0f3-3a203c61f400",
   "metadata": {},
   "outputs": [],
   "source": [
    "if os.path.exists(f\"{index_file}.pkl\"):\n",
    "    with open(f\"{index_file}.pkl\", \"rb\") as f:\n",
    "        VectorStore = pickle.load(f)\n",
    "    print('Index file loaded from disk')\n",
    "else:\n",
    "    print('Index file does not exist')"
   ]
  },
  {
   "cell_type": "markdown",
   "id": "309eb4a2-66da-48e8-a5ad-f45d9a4c7c00",
   "metadata": {},
   "source": [
    "## Large language model (LLM)\n",
    "Flan-t5-xxl: FLAN-T5 was released in the paper Scaling Instruction-Finetuned Language Models: \n",
    "\n",
    "https://huggingface.co/google/flan-t5-xxl"
   ]
  },
  {
   "cell_type": "code",
   "execution_count": 26,
   "id": "46e964be-36dd-479a-9bb6-a37fbbd638ff",
   "metadata": {},
   "outputs": [],
   "source": [
    "llm = HuggingFaceHub(\n",
    "    repo_id=\"google/flan-t5-xxl\",\n",
    "    model_kwargs={\"temperature\": 0.5},\n",
    "    huggingfacehub_api_token=HUGGINGFACEHUB_API_TOKEN\n",
    ")"
   ]
  },
  {
   "cell_type": "markdown",
   "id": "21972430-abd2-43df-a670-22dcdd914cc2",
   "metadata": {},
   "source": [
    "## Question answering\n",
    "Use the vector store to search documents which are similar to the query and run the question answering chain."
   ]
  },
  {
   "cell_type": "code",
   "execution_count": 31,
   "id": "0b9e8622-f4a6-428a-a731-d3d9a9b4e0bf",
   "metadata": {},
   "outputs": [],
   "source": [
    "query = \"Which famous scientist discovered the gravitational waves?\""
   ]
  },
  {
   "cell_type": "code",
   "execution_count": 32,
   "id": "1042ca74-1c4c-4421-b358-6ba595db1e35",
   "metadata": {},
   "outputs": [
    {
     "name": "stderr",
     "output_type": "stream",
     "text": [
      "Batches: 100%|████████████████████████████████████████████████████████████████████████████████████████████████████████████████████████████████████████████████████████████████| 1/1 [00:00<00:00,  2.70it/s]\n"
     ]
    }
   ],
   "source": [
    "chain = load_qa_chain(llm, chain_type=\"stuff\")\n",
    "docs = VectorStore.similarity_search(query)\n",
    "answer = chain.run(input_documents=docs, question=query)"
   ]
  },
  {
   "cell_type": "code",
   "execution_count": 33,
   "id": "b410e191-ea43-4a63-8ea5-6971dc87fa8c",
   "metadata": {},
   "outputs": [
    {
     "data": {
      "text/plain": [
       "'Einstein'"
      ]
     },
     "execution_count": 33,
     "metadata": {},
     "output_type": "execute_result"
    }
   ],
   "source": [
    "answer"
   ]
  },
  {
   "cell_type": "markdown",
   "id": "6cc0d2a6-5dc3-44b4-98d2-74330d67bba0",
   "metadata": {},
   "source": [
    "## Relevant documents\n",
    "\n",
    "Relevant documents are listed and the page number is preserved."
   ]
  },
  {
   "cell_type": "code",
   "execution_count": 34,
   "id": "4ea5cee1-d45e-4ba9-8143-78e8ac94ba51",
   "metadata": {},
   "outputs": [
    {
     "data": {
      "text/plain": [
       "[Document(page_content='waves\". JETP. 43: 605–607.\\n33. Cho, Adrian (Oct. 3, 2017). \"Ripples in space: U.S. trio wins physics Nobel for discovery of\\ngravitational waves (https://www.science.org/content/article/ripples-space-us-trio-wins-physi\\ncs-nobel-discovery-gravitational-waves),\" Science. Retrieved 20 May 2019.\\n34. Cervantes-Cota, Jorge L., Galindo-Uribarri, Salvador, and Smoot, George F. (2016). \"A Brief\\nHistory of Gravitational Waves (https://arxiv.org/abs/1609.09400),\" Universe, 2, no. 3, 22.', metadata={'page': 20, 'filename': 'Gravitational_wave-1.pdf'}),\n",
       " Document(page_content='in the cosmic microwave background . However, they were later forced to retract this result.[19][20][41][42]\\nIn 2017, the Nobel Prize in Physics was awarded to Rainer Weiss, Kip Thorne and Barry Barish for their\\nrole in the detection of  gravitational waves.[43][44][45]', metadata={'page': 4, 'filename': 'Gravitational_wave-1.pdf'}),\n",
       " Document(page_content='gravitational waves.[24][25] When Einstein published his general\\ntheory of relativity in 1915, he was skeptical of Poincaré\\'s idea\\nsince the theory implied there were no \"gravitational dipoles\".\\nNonetheless, he still pursued the idea and based on various\\napproximations came to the conclusion there must, in fact, be three\\ntypes of gravitational waves (dubbe d longitudinal–longitudinal,\\ntransverse–longitudinal, and transverse–transverse by Hermann\\nWeyl).[25]', metadata={'page': 3, 'filename': 'Gravitational_wave-1.pdf'}),\n",
       " Document(page_content='88. Thorne, Kip S. (1995). \"Gravitational Waves\" (https://archive.org/details/arxiv-gr-qc9506086).\\nParticle and Nuclear Astrophysics and Cosmology in the Next Millenium: 160. arXiv:gr-\\nqc/9506086 (https://arxiv.org/abs/gr-qc/9506086). Bibcode:1995pnac.conf..160T (https://ui.a\\ndsabs.harvard.edu/abs/1995pnac.conf..160T).\\n89. Blair DG, ed. (1991). The detection of gravitational waves. Cambridge University Press.', metadata={'page': 25, 'filename': 'Gravitational_wave-1.pdf'})]"
      ]
     },
     "execution_count": 34,
     "metadata": {},
     "output_type": "execute_result"
    }
   ],
   "source": [
    "docs"
   ]
  }
 ],
 "metadata": {
  "kernelspec": {
   "display_name": "Python 3 (ipykernel)",
   "language": "python",
   "name": "python3"
  },
  "language_info": {
   "codemirror_mode": {
    "name": "ipython",
    "version": 3
   },
   "file_extension": ".py",
   "mimetype": "text/x-python",
   "name": "python",
   "nbconvert_exporter": "python",
   "pygments_lexer": "ipython3",
   "version": "3.10.12"
  }
 },
 "nbformat": 4,
 "nbformat_minor": 5
}
